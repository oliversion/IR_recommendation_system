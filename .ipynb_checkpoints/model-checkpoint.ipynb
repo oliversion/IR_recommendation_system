{
 "cells": [
  {
   "cell_type": "code",
   "execution_count": 4,
   "metadata": {
    "_cell_guid": "b1076dfc-b9ad-4769-8c92-a6c4dae69d19",
    "_uuid": "8f2839f25d086af736a60e9eeb907d3b93b6e0e5"
   },
   "outputs": [
    {
     "name": "stdout",
     "output_type": "stream",
     "text": [
      "['links.csv', 'tags.csv', 'ratings.csv', 'README.txt', 'movies.csv']\n"
     ]
    }
   ],
   "source": [
    "import numpy as np # linear algebra\n",
    "import pandas as pd # data processing, CSV file I/O (e.g. pd.read_csv)\n",
    "import os\n",
    "%matplotlib inline\n",
    "print(os.listdir(\"input\"))"
   ]
  },
  {
   "cell_type": "code",
   "execution_count": null,
   "metadata": {
    "_cell_guid": "79c7e3d0-c299-4dcb-8224-4455121ee9b0",
    "_uuid": "d629ff2d2480ee46fbb7e2d37f6b5fab8052498a"
   },
   "outputs": [],
   "source": [
    "movie = pd.read_csv(\"../ml-latest-small/movie.csv\")\n",
    "movie.columns"
   ]
  },
  {
   "cell_type": "code",
   "execution_count": null,
   "metadata": {
    "_uuid": "3138c651da8daccf82da3547b6f92876e66e749a"
   },
   "outputs": [],
   "source": [
    "# what we need is that movie id and title\n",
    "# movie = movie.loc[:,[\"movieId\",\"title\"]]\n",
    "movie.head(10)"
   ]
  },
  {
   "cell_type": "code",
   "execution_count": null,
   "metadata": {
    "_uuid": "26dee50cfb749f236d79a792dd6ec1d7e1d17b20"
   },
   "outputs": [],
   "source": [
    "movie['year'] = movie['title'].str.extract('.*\\((.*)\\).*', expand=True)\n",
    "movie.head(10)"
   ]
  },
  {
   "cell_type": "code",
   "execution_count": null,
   "metadata": {
    "_uuid": "f19ffacd482f7a6241216cdc54cde41834814bf1"
   },
   "outputs": [],
   "source": [
    "#movie_genres = movie['genres'].str.split('|', expand=True)\n",
    "#movie_genres.head()\n",
    "unique_genres = pd.unique(movie[['genres']].values.ravel('K'))\n",
    "print('#Unique genres: {}'.format(unique_genres.shape[0]))"
   ]
  },
  {
   "cell_type": "code",
   "execution_count": null,
   "metadata": {
    "_uuid": "ffcc2cef62eaf4716831fab66234b6d7cb907562"
   },
   "outputs": [],
   "source": [
    "#split to separate columns"
   ]
  },
  {
   "cell_type": "code",
   "execution_count": null,
   "metadata": {
    "_uuid": "e44560ea06367dc21599d7c3d26843678b2cca91"
   },
   "outputs": [],
   "source": [
    "tags = pd.read_csv(\"../ml-latest-small/tag.csv\")\n",
    "tags.columns"
   ]
  },
  {
   "cell_type": "code",
   "execution_count": null,
   "metadata": {
    "_uuid": "fbfae4c9da94e9e852b0a99ab43c21e9afe17716"
   },
   "outputs": [],
   "source": [
    "tags = tags.loc[:,[\"userId\",\"movieId\",\"tag\"]]\n",
    "tags.head(10)"
   ]
  },
  {
   "cell_type": "code",
   "execution_count": null,
   "metadata": {
    "_uuid": "9437e785f687c87f95acde1e3fe79da878c3c9d5"
   },
   "outputs": [],
   "source": [
    "tag_counts = tags['tag'].value_counts()\n",
    "tag_counts[:10].plot(kind='bar', figsize=(10,5))"
   ]
  },
  {
   "cell_type": "code",
   "execution_count": null,
   "metadata": {
    "_uuid": "91f2c867cab11984360aff4218dc2fd7cd29cd97"
   },
   "outputs": [],
   "source": [
    "movies_tags = movie.merge(tags, on='movieId', how='inner')\n",
    "movies_tags.head()"
   ]
  },
  {
   "cell_type": "code",
   "execution_count": null,
   "metadata": {
    "_uuid": "ed15c3fa04948ebf78a9dd7eae1f3d356d1e37de"
   },
   "outputs": [],
   "source": [
    "# import rating data and look at columsn\n",
    "rating = pd.read_csv(\"../ml-latest-small/rating.csv\")\n",
    "rating.columns"
   ]
  },
  {
   "cell_type": "code",
   "execution_count": null,
   "metadata": {
    "_uuid": "5e7b8d325439557a729f353c6be4ba85f232e5ea"
   },
   "outputs": [],
   "source": [
    "# what we need is that user id, movie id and rating\n",
    "rating = rating.loc[:,[\"userId\",\"movieId\",\"rating\"]]\n",
    "rating.head(10)"
   ]
  },
  {
   "cell_type": "code",
   "execution_count": null,
   "metadata": {
    "_uuid": "eda5a48e899db4129758d24924248e6974d00356"
   },
   "outputs": [],
   "source": [
    "#how the ratings are distributed\n",
    "rating['rating'].describe()"
   ]
  },
  {
   "cell_type": "code",
   "execution_count": null,
   "metadata": {
    "_uuid": "24e4d1e750a43b505384dcc1e48ac5167190791a"
   },
   "outputs": [],
   "source": [
    "rating.hist(column='rating', figsize=(10,5))"
   ]
  },
  {
   "cell_type": "code",
   "execution_count": null,
   "metadata": {
    "_uuid": "d926fd527f9b2489c9ffd15ef04e3113b4f4be3f"
   },
   "outputs": [],
   "source": [
    "rating.boxplot(column='rating', figsize=(10,5))"
   ]
  },
  {
   "cell_type": "code",
   "execution_count": null,
   "metadata": {
    "_uuid": "b211fb7611d6e73be70ebdbd198fd4db68d9f538"
   },
   "outputs": [],
   "source": [
    "#estimate average rating for each movie to replace missed values\n",
    "avg_ratings= rating.groupby('movieId', as_index=False).mean()\n",
    "del avg_ratings['userId']\n",
    "avg_ratings.head()"
   ]
  },
  {
   "cell_type": "code",
   "execution_count": null,
   "metadata": {
    "_uuid": "3e2f6d97574e05bac7661dbc8bb61a21bad373e8"
   },
   "outputs": [],
   "source": [
    "movies_tag_avgrating = movies_tags.merge(avg_ratings, on='movieId', how='inner')\n",
    "movies_tag_avgrating.tail()"
   ]
  },
  {
   "cell_type": "code",
   "execution_count": null,
   "metadata": {
    "_uuid": "edf2fe709ca2ed6188fa5e044fe1113526d70278"
   },
   "outputs": [],
   "source": [
    "movies_tag_avgrating.head()"
   ]
  },
  {
   "cell_type": "code",
   "execution_count": null,
   "metadata": {
    "_uuid": "ce38faeeda5142479d7325469717c9590d4000ae"
   },
   "outputs": [],
   "source": [
    "# then merge movie and rating data\n",
    "data = pd.merge(movie,rating)"
   ]
  },
  {
   "cell_type": "code",
   "execution_count": null,
   "metadata": {
    "_uuid": "665d5f70b63a4be83cfcdc41bef7fb725cc9fefe"
   },
   "outputs": [],
   "source": [
    "# now lets look at our data \n",
    "data.head(10)"
   ]
  },
  {
   "cell_type": "code",
   "execution_count": null,
   "metadata": {
    "_uuid": "46147fdaf3d4edca8039abccc9090c3274b1c0ca"
   },
   "outputs": [],
   "source": [
    "data.shape"
   ]
  },
  {
   "cell_type": "code",
   "execution_count": null,
   "metadata": {
    "_uuid": "566df117456868c17ce7e400f6599583f179cf1b"
   },
   "outputs": [],
   "source": [
    "data = data.iloc[:1000000,:]"
   ]
  },
  {
   "cell_type": "code",
   "execution_count": null,
   "metadata": {
    "_uuid": "ff515dc8f2cf01352f161eef91d8393011064e70"
   },
   "outputs": [],
   "source": [
    "# lets make a pivot table in order to make rows are users and columns are movies. And values are rating\n",
    "# pivot_table = data.pivot_table(index = [\"title\"],columns = [\"userId\"],values = \"rating\")\n",
    "# pivot_table.head(10)\n",
    "pivot_table = data.pivot_table(index = [\"userId\"],columns = [\"title\"],values = \"rating\")\n",
    "pivot_table.head(10)"
   ]
  },
  {
   "cell_type": "code",
   "execution_count": null,
   "metadata": {
    "_uuid": "e267db7a5c1eeeec9b6e2a4789aa9d3102759ec6"
   },
   "outputs": [],
   "source": [
    "movie_watched = pivot_table[\"Bad Boys (1995)\"]\n",
    "similarity_with_other_movies = pivot_table.corrwith(movie_watched)  # find correlation between \"Bad Boys (1995)\" and other movies\n",
    "similarity_with_other_movies = similarity_with_other_movies.sort_values(ascending=False)\n",
    "similarity_with_other_movies.head(10)"
   ]
  },
  {
   "cell_type": "code",
   "execution_count": null,
   "metadata": {
    "_uuid": "370bfeb85566ebe2e1ced7802e2a5ff5c6ab9571"
   },
   "outputs": [],
   "source": [
    "pivot_table.isnull().sum().sum()"
   ]
  },
  {
   "cell_type": "code",
   "execution_count": null,
   "metadata": {
    "_uuid": "6373cf01d1a8710bc24d2a3f19b6f1c2b6be5d3e"
   },
   "outputs": [],
   "source": [
    "print('pivot_table shape: {}, size: {}'.format(pivot_table.shape, pivot_table.size))"
   ]
  },
  {
   "cell_type": "code",
   "execution_count": null,
   "metadata": {
    "_uuid": "e1c18ee3cc979c9faf30e03a363d839434538a25"
   },
   "outputs": [],
   "source": [
    "miss_values = pivot_table.isnull().sum().sum()/pivot_table.size\n",
    "print('% of missed values: {}'.format(miss_values))"
   ]
  },
  {
   "cell_type": "code",
   "execution_count": null,
   "metadata": {
    "_uuid": "dcaeacf4b6aad572bddf32da4a4efed9cb9786f8"
   },
   "outputs": [],
   "source": []
  }
 ],
 "metadata": {
  "kernelspec": {
   "display_name": "Python 3",
   "language": "python",
   "name": "python3"
  },
  "language_info": {
   "codemirror_mode": {
    "name": "ipython",
    "version": 3
   },
   "file_extension": ".py",
   "mimetype": "text/x-python",
   "name": "python",
   "nbconvert_exporter": "python",
   "pygments_lexer": "ipython3",
   "version": "3.6.5"
  }
 },
 "nbformat": 4,
 "nbformat_minor": 1
}
