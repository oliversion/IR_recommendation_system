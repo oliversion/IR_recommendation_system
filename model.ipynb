{
  "cells": [
    {
      "metadata": {
        "_uuid": "8f2839f25d086af736a60e9eeb907d3b93b6e0e5",
        "_cell_guid": "b1076dfc-b9ad-4769-8c92-a6c4dae69d19",
        "trusted": true
      },
      "cell_type": "code",
      "source": "import numpy as np # linear algebra\nimport pandas as pd # data processing, CSV file I/O (e.g. pd.read_csv)\nimport os\n%matplotlib inline\nprint(os.listdir(\"../input\"))",
      "execution_count": null,
      "outputs": []
    },
    {
      "metadata": {
        "_cell_guid": "79c7e3d0-c299-4dcb-8224-4455121ee9b0",
        "_uuid": "d629ff2d2480ee46fbb7e2d37f6b5fab8052498a",
        "trusted": true
      },
      "cell_type": "code",
      "source": "movie = pd.read_csv(\"../input/movie.csv\")\nmovie.columns",
      "execution_count": null,
      "outputs": []
    },
    {
      "metadata": {
        "trusted": true,
        "_uuid": "3138c651da8daccf82da3547b6f92876e66e749a"
      },
      "cell_type": "code",
      "source": "# what we need is that movie id and title\n# movie = movie.loc[:,[\"movieId\",\"title\"]]\nmovie.head(10)",
      "execution_count": null,
      "outputs": []
    },
    {
      "metadata": {
        "trusted": true,
        "_uuid": "26dee50cfb749f236d79a792dd6ec1d7e1d17b20"
      },
      "cell_type": "code",
      "source": "movie['year'] = movie['title'].str.extract('.*\\((.*)\\).*', expand=True)\nmovie.head(10)",
      "execution_count": null,
      "outputs": []
    },
    {
      "metadata": {
        "trusted": true,
        "_uuid": "f19ffacd482f7a6241216cdc54cde41834814bf1"
      },
      "cell_type": "code",
      "source": "#movie_genres = movie['genres'].str.split('|', expand=True)\n#movie_genres.head()\nunique_genres = pd.unique(movie[['genres']].values.ravel('K'))\nprint('#Unique genres: {}'.format(unique_genres.shape[0]))",
      "execution_count": null,
      "outputs": []
    },
    {
      "metadata": {
        "trusted": true,
        "_uuid": "ffcc2cef62eaf4716831fab66234b6d7cb907562"
      },
      "cell_type": "code",
      "source": "#split to separate columns",
      "execution_count": null,
      "outputs": []
    },
    {
      "metadata": {
        "trusted": true,
        "_uuid": "e44560ea06367dc21599d7c3d26843678b2cca91"
      },
      "cell_type": "code",
      "source": "tags = pd.read_csv(\"../input/tag.csv\")\ntags.columns",
      "execution_count": null,
      "outputs": []
    },
    {
      "metadata": {
        "trusted": true,
        "_uuid": "fbfae4c9da94e9e852b0a99ab43c21e9afe17716"
      },
      "cell_type": "code",
      "source": "tags = tags.loc[:,[\"userId\",\"movieId\",\"tag\"]]\ntags.head(10)",
      "execution_count": null,
      "outputs": []
    },
    {
      "metadata": {
        "trusted": true,
        "_uuid": "9437e785f687c87f95acde1e3fe79da878c3c9d5"
      },
      "cell_type": "code",
      "source": "tag_counts = tags['tag'].value_counts()\ntag_counts[:10].plot(kind='bar', figsize=(10,5))",
      "execution_count": null,
      "outputs": []
    },
    {
      "metadata": {
        "trusted": true,
        "_uuid": "91f2c867cab11984360aff4218dc2fd7cd29cd97"
      },
      "cell_type": "code",
      "source": "movies_tags = movie.merge(tags, on='movieId', how='inner')\nmovies_tags.head()",
      "execution_count": null,
      "outputs": []
    },
    {
      "metadata": {
        "trusted": true,
        "_uuid": "ed15c3fa04948ebf78a9dd7eae1f3d356d1e37de"
      },
      "cell_type": "code",
      "source": "# import rating data and look at columsn\nrating = pd.read_csv(\"../input/rating.csv\")\nrating.columns",
      "execution_count": null,
      "outputs": []
    },
    {
      "metadata": {
        "trusted": true,
        "_uuid": "5e7b8d325439557a729f353c6be4ba85f232e5ea"
      },
      "cell_type": "code",
      "source": "# what we need is that user id, movie id and rating\nrating = rating.loc[:,[\"userId\",\"movieId\",\"rating\"]]\nrating.head(10)",
      "execution_count": null,
      "outputs": []
    },
    {
      "metadata": {
        "trusted": true,
        "_uuid": "eda5a48e899db4129758d24924248e6974d00356"
      },
      "cell_type": "code",
      "source": "#how the ratings are distributed\nrating['rating'].describe()",
      "execution_count": null,
      "outputs": []
    },
    {
      "metadata": {
        "trusted": true,
        "_uuid": "24e4d1e750a43b505384dcc1e48ac5167190791a"
      },
      "cell_type": "code",
      "source": "rating.hist(column='rating', figsize=(10,5))",
      "execution_count": null,
      "outputs": []
    },
    {
      "metadata": {
        "trusted": true,
        "_uuid": "d926fd527f9b2489c9ffd15ef04e3113b4f4be3f"
      },
      "cell_type": "code",
      "source": "rating.boxplot(column='rating', figsize=(10,5))",
      "execution_count": null,
      "outputs": []
    },
    {
      "metadata": {
        "trusted": true,
        "_uuid": "b211fb7611d6e73be70ebdbd198fd4db68d9f538"
      },
      "cell_type": "code",
      "source": "#estimate average rating for each movie to replace missed values\navg_ratings= rating.groupby('movieId', as_index=False).mean()\ndel avg_ratings['userId']\navg_ratings.head()",
      "execution_count": null,
      "outputs": []
    },
    {
      "metadata": {
        "trusted": true,
        "_uuid": "3e2f6d97574e05bac7661dbc8bb61a21bad373e8"
      },
      "cell_type": "code",
      "source": "movies_tag_avgrating = movies_tags.merge(avg_ratings, on='movieId', how='inner')\nmovies_tag_avgrating.tail()",
      "execution_count": null,
      "outputs": []
    },
    {
      "metadata": {
        "trusted": true,
        "_uuid": "edf2fe709ca2ed6188fa5e044fe1113526d70278"
      },
      "cell_type": "code",
      "source": "movies_tag_avgrating.head()",
      "execution_count": null,
      "outputs": []
    },
    {
      "metadata": {
        "trusted": true,
        "_uuid": "ce38faeeda5142479d7325469717c9590d4000ae"
      },
      "cell_type": "code",
      "source": "# then merge movie and rating data\ndata = pd.merge(movie,rating)",
      "execution_count": null,
      "outputs": []
    },
    {
      "metadata": {
        "trusted": true,
        "_uuid": "665d5f70b63a4be83cfcdc41bef7fb725cc9fefe"
      },
      "cell_type": "code",
      "source": "# now lets look at our data \ndata.head(10)",
      "execution_count": null,
      "outputs": []
    },
    {
      "metadata": {
        "trusted": true,
        "_uuid": "46147fdaf3d4edca8039abccc9090c3274b1c0ca"
      },
      "cell_type": "code",
      "source": "data.shape",
      "execution_count": null,
      "outputs": []
    },
    {
      "metadata": {
        "trusted": true,
        "_uuid": "566df117456868c17ce7e400f6599583f179cf1b"
      },
      "cell_type": "code",
      "source": "data = data.iloc[:1000000,:]",
      "execution_count": null,
      "outputs": []
    },
    {
      "metadata": {
        "trusted": true,
        "_uuid": "ff515dc8f2cf01352f161eef91d8393011064e70"
      },
      "cell_type": "code",
      "source": "# lets make a pivot table in order to make rows are users and columns are movies. And values are rating\n# pivot_table = data.pivot_table(index = [\"title\"],columns = [\"userId\"],values = \"rating\")\n# pivot_table.head(10)\npivot_table = data.pivot_table(index = [\"userId\"],columns = [\"title\"],values = \"rating\")\npivot_table.head(10)",
      "execution_count": null,
      "outputs": []
    },
    {
      "metadata": {
        "trusted": true,
        "_uuid": "e267db7a5c1eeeec9b6e2a4789aa9d3102759ec6"
      },
      "cell_type": "code",
      "source": "movie_watched = pivot_table[\"Bad Boys (1995)\"]\nsimilarity_with_other_movies = pivot_table.corrwith(movie_watched)  # find correlation between \"Bad Boys (1995)\" and other movies\nsimilarity_with_other_movies = similarity_with_other_movies.sort_values(ascending=False)\nsimilarity_with_other_movies.head(10)",
      "execution_count": null,
      "outputs": []
    },
    {
      "metadata": {
        "trusted": true,
        "_uuid": "370bfeb85566ebe2e1ced7802e2a5ff5c6ab9571"
      },
      "cell_type": "code",
      "source": "pivot_table.isnull().sum().sum()",
      "execution_count": null,
      "outputs": []
    },
    {
      "metadata": {
        "trusted": true,
        "_uuid": "6373cf01d1a8710bc24d2a3f19b6f1c2b6be5d3e"
      },
      "cell_type": "code",
      "source": "print('pivot_table shape: {}, size: {}'.format(pivot_table.shape, pivot_table.size))",
      "execution_count": null,
      "outputs": []
    },
    {
      "metadata": {
        "trusted": true,
        "_uuid": "e1c18ee3cc979c9faf30e03a363d839434538a25"
      },
      "cell_type": "code",
      "source": "miss_values = pivot_table.isnull().sum().sum()/pivot_table.size\nprint('% of missed values: {}'.format(miss_values))",
      "execution_count": null,
      "outputs": []
    },
    {
      "metadata": {
        "trusted": true,
        "_uuid": "dcaeacf4b6aad572bddf32da4a4efed9cb9786f8"
      },
      "cell_type": "code",
      "source": "",
      "execution_count": null,
      "outputs": []
    }
  ],
  "metadata": {
    "kernelspec": {
      "display_name": "Python 3",
      "language": "python",
      "name": "python3"
    },
    "language_info": {
      "name": "python",
      "version": "3.6.6",
      "mimetype": "text/x-python",
      "codemirror_mode": {
        "name": "ipython",
        "version": 3
      },
      "pygments_lexer": "ipython3",
      "nbconvert_exporter": "python",
      "file_extension": ".py"
    }
  },
  "nbformat": 4,
  "nbformat_minor": 1
}